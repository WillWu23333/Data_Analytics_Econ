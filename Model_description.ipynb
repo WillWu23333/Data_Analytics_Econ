{
 "cells": [
  {
   "cell_type": "markdown",
   "id": "7e8e45a9",
   "metadata": {},
   "source": [
    "# Background & Topic Description\n",
    "\n",
    "(I have changed my topic.)\n",
    "\n",
    "### Background:\n",
    "*“China announced probe on canola imports from Canada.”*\n",
    "*“More than half of Canada's canola export is sold to China”*\n",
    "https://www.reuters.com/business/china-says-it-will-start-anti-dumping-probe-into-canola-imports-canada-2024-09-03/\n",
    "\n",
    "\n",
    "\n",
    "### Topic:\n",
    "**\"How does a 10% surtax on Canadian canola oil impact CO2 emissions from agriculture due to substitution between canola and corn?\"**\n",
    "\n",
    "Given Canada’s heavy reliance on the Chinese market for canola exports, it is reasonable to anticipate the possibility of a surtax imposed on Canadian canola oil. And since corn and canola are both widely used in oil production, they are likely in a substitution relationship.\n",
    "\n",
    "The impact on CO2 emission will be discussed in the Counterfactual Analysis. A possible approach is to estimate CO2 emission with Carbon Footprints of planting these two crops.\n"
   ]
  },
  {
   "cell_type": "markdown",
   "id": "e3c4a8c5",
   "metadata": {},
   "source": [
    "# Model Description\n",
    "\n",
    "- **Key Elasticity**: The model is designed to regress the EOS between canola and corn in Canada. \n",
    "\n",
    "- **Key Shock**: The price change from, for exmple, a 10% surtax on Canadian canola oil can drive the substitution toward corn. This change in quantity can be captured by the model.\n",
    "\n",
    "$$ \\log{c_{a}/c_{o}} = \\log{\\alpha_{a,o}} - \\sigma_{a,o}\\log{p_{a}/p_{o}} $$\n",
    "\n",
    "where:\n",
    "\n",
    "- $p_a$ and $c_a$ represent the price and quantity of canola, respectively.\n",
    "\n",
    "- $p_o$ and $c_o$ represent the price and quantity of corns, respectively.\n",
    "\n",
    "- $\\alpha_{a,o}$: Constant term reflecting non-price baseline factors affecting the relative quantities of canola and corn.\n",
    "\n",
    "- $\\sigma_{a,o}$: Constant elasticity of substitution between canola and corn, measuring how responsive the relative quantities are to relative price changes.\n",
    "<br>\n",
    "\n",
    "This is a **long-run model** , as it captures the elasticity of substitution between canola and corn, which reflects farmers’ decisions to shift land use or production in response to relative price changes.\n",
    "Land reallocation typically requires time and thus, cannot be adjusted in the short-run.\n",
    "\n",
    "\n",
    "**Factors held constant** may include: total farmland, environmental factors (except temperature), and prices of other crops are assumed constant.\n",
    "\n",
    "\n",
    "The model requires time series data on price indices and production quantities of canola and corn."
   ]
  },
  {
   "cell_type": "code",
   "execution_count": null,
   "id": "42dc3368",
   "metadata": {},
   "outputs": [],
   "source": []
  }
 ],
 "metadata": {
  "kernelspec": {
   "display_name": "Python 3 (ipykernel)",
   "language": "python",
   "name": "python3"
  },
  "language_info": {
   "codemirror_mode": {
    "name": "ipython",
    "version": 3
   },
   "file_extension": ".py",
   "mimetype": "text/x-python",
   "name": "python",
   "nbconvert_exporter": "python",
   "pygments_lexer": "ipython3",
   "version": "3.11.6"
  }
 },
 "nbformat": 4,
 "nbformat_minor": 5
}
